{
 "cells": [
  {
   "cell_type": "code",
   "execution_count": 1,
   "metadata": {},
   "outputs": [],
   "source": [
    "# import torch\n",
    "# from denoising_diffusion_pytorch import Unet, GaussianDiffusion\n",
    "\n",
    "# model = Unet(\n",
    "#     dim = 64,\n",
    "#     dim_mults = (1, 2, 4, 8),\n",
    "#     flash_attn = True\n",
    "# )\n",
    "\n",
    "# diffusion = GaussianDiffusion(\n",
    "#     model,\n",
    "#     image_size = 128,\n",
    "#     timesteps = 1000    # number of steps\n",
    "# )\n",
    "\n",
    "# training_images = torch.rand(8, 3, 128, 128) # images are normalized from 0 to 1\n",
    "# loss = diffusion(training_images)\n",
    "# loss.backward()\n",
    "\n",
    "# # after a lot of training\n",
    "\n",
    "# sampled_images = diffusion.sample(batch_size = 4)\n",
    "# sampled_images.shape # (4, 3, 128, 128)"
   ]
  },
  {
   "cell_type": "markdown",
   "metadata": {},
   "source": [
    "## Simple One"
   ]
  },
  {
   "cell_type": "code",
   "execution_count": 2,
   "metadata": {},
   "outputs": [],
   "source": [
    "# from denoising_diffusion_pytorch import Unet, GaussianDiffusion, Trainer\n",
    "\n",
    "# model = Unet(\n",
    "#     dim = 64,\n",
    "#     dim_mults = (1, 2, 4, 8),\n",
    "#     flash_attn = True\n",
    "# )\n",
    "\n",
    "# diffusion = GaussianDiffusion(\n",
    "#     model,\n",
    "#     image_size = 128,\n",
    "#     timesteps = 1000,           # number of steps\n",
    "#     sampling_timesteps = 250    # number of sampling timesteps (using ddim for faster inference [see citation for ddim paper])\n",
    "# )\n",
    "\n",
    "# trainer = Trainer(\n",
    "#     diffusion,\n",
    "#     'path/to/your/images',\n",
    "#     train_batch_size = 32,\n",
    "#     train_lr = 8e-5,\n",
    "#     train_num_steps = 700000,         # total training steps\n",
    "#     gradient_accumulate_every = 2,    # gradient accumulation steps\n",
    "#     ema_decay = 0.995,                # exponential moving average decay\n",
    "#     amp = True,                       # turn on mixed precision\n",
    "#     calculate_fid = True              # whether to calculate fid during training\n",
    "# )\n",
    "\n",
    "# trainer.train()"
   ]
  },
  {
   "cell_type": "markdown",
   "metadata": {},
   "source": [
    "## Simply Completed"
   ]
  },
  {
   "cell_type": "code",
   "execution_count": 3,
   "metadata": {},
   "outputs": [],
   "source": [
    "# import torch\n",
    "# from denoising_diffusion_pytorch import Unet1D, GaussianDiffusion1D, Trainer1D, Dataset1D\n",
    "\n",
    "# model = Unet1D(\n",
    "#     dim = 64,\n",
    "#     dim_mults = (1, 2, 4, 8),\n",
    "#     channels = 32\n",
    "# )\n",
    "\n",
    "# diffusion = GaussianDiffusion1D(\n",
    "#     model,\n",
    "#     seq_length = 128,\n",
    "#     timesteps = 1000,\n",
    "#     objective = 'pred_v'\n",
    "# )\n",
    "\n",
    "# training_seq = torch.rand(64, 32, 128) # features are normalized from 0 to 1\n",
    "\n",
    "# loss = diffusion(training_seq)\n",
    "# loss.backward()\n",
    "\n",
    "# # Or using trainer\n",
    "\n",
    "# dataset = Dataset1D(training_seq)  # this is just an example, but you can formulate your own Dataset and pass it into the `Trainer1D` below\n",
    "\n",
    "# trainer = Trainer1D(\n",
    "#     diffusion,\n",
    "#     dataset = dataset,\n",
    "#     train_batch_size = 32,\n",
    "#     train_lr = 8e-5,\n",
    "#     train_num_steps = 700000,         # total training steps\n",
    "#     gradient_accumulate_every = 2,    # gradient accumulation steps\n",
    "#     ema_decay = 0.995,                # exponential moving average decay\n",
    "#     amp = True,                       # turn on mixed precision\n",
    "# )\n",
    "# trainer.train()\n",
    "\n",
    "# # after a lot of training\n",
    "\n",
    "# sampled_seq = diffusion.sample(batch_size = 4)\n",
    "# sampled_seq.shape # (4, 32, 128)\n"
   ]
  },
  {
   "cell_type": "markdown",
   "metadata": {},
   "source": [
    "# Diffusion Models"
   ]
  },
  {
   "cell_type": "code",
   "execution_count": null,
   "metadata": {},
   "outputs": [],
   "source": []
  }
 ],
 "metadata": {
  "kernelspec": {
   "display_name": "lab_kc",
   "language": "python",
   "name": "python3"
  },
  "language_info": {
   "codemirror_mode": {
    "name": "ipython",
    "version": 3
   },
   "file_extension": ".py",
   "mimetype": "text/x-python",
   "name": "python",
   "nbconvert_exporter": "python",
   "pygments_lexer": "ipython3",
   "version": "3.9.20"
  }
 },
 "nbformat": 4,
 "nbformat_minor": 2
}
